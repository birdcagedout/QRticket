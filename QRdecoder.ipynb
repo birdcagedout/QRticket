{
 "cells": [
  {
   "cell_type": "code",
   "execution_count": 2,
   "id": "e230b8c1-78ab-43b8-a0e7-022c3f103ee3",
   "metadata": {},
   "outputs": [],
   "source": [
    "import cv2\n",
    "from PIL import Image\n",
    "import numpy as np"
   ]
  },
  {
   "cell_type": "code",
   "execution_count": 3,
   "id": "0abb0938-c811-4f1a-89ad-5775a0418add",
   "metadata": {},
   "outputs": [],
   "source": [
    "image = cv2.imread('C:\\QRcodePy\\QRtest.png')"
   ]
  },
  {
   "cell_type": "code",
   "execution_count": 4,
   "id": "f6fa2843-bc17-4b7f-a63b-9d0c2dbd688f",
   "metadata": {},
   "outputs": [],
   "source": [
    "QRCodeDetector = cv2.QRCodeDetector()"
   ]
  },
  {
   "cell_type": "code",
   "execution_count": 5,
   "id": "0a66ee51-d687-4e58-8b0d-42154aacdd32",
   "metadata": {},
   "outputs": [],
   "source": [
    "detected, points, straight_QR = QRCodeDetector.detectAndDecode(image)"
   ]
  },
  {
   "cell_type": "code",
   "execution_count": 6,
   "id": "ed4e78ed-1e31-40b6-bf87-9a2289cc4bea",
   "metadata": {},
   "outputs": [
    {
     "data": {
      "text/plain": [
       "'2021-11-4077-01'"
      ]
     },
     "execution_count": 6,
     "metadata": {},
     "output_type": "execute_result"
    }
   ],
   "source": [
    "detected"
   ]
  },
  {
   "cell_type": "code",
   "execution_count": 7,
   "id": "f4565363-943f-4d52-84c6-ed146d151f86",
   "metadata": {},
   "outputs": [],
   "source": [
    "# decodedText"
   ]
  },
  {
   "cell_type": "code",
   "execution_count": 8,
   "id": "4be22bad-26d2-406e-86f1-05a5a46e9806",
   "metadata": {},
   "outputs": [
    {
     "data": {
      "text/plain": [
       "array([[[379., 586.],\n",
       "        [452., 586.],\n",
       "        [452., 659.],\n",
       "        [379., 659.]]], dtype=float32)"
      ]
     },
     "execution_count": 8,
     "metadata": {},
     "output_type": "execute_result"
    }
   ],
   "source": [
    "points"
   ]
  },
  {
   "cell_type": "code",
   "execution_count": 9,
   "id": "b6d348bd-97fa-4fd2-a907-346d6c5eeec2",
   "metadata": {},
   "outputs": [
    {
     "data": {
      "text/plain": [
       "array([[[379, 586],\n",
       "        [452, 586],\n",
       "        [452, 659],\n",
       "        [379, 659]]])"
      ]
     },
     "execution_count": 9,
     "metadata": {},
     "output_type": "execute_result"
    }
   ],
   "source": [
    "points = np.array(points, dtype=np.int32)\n",
    "\n",
    "points"
   ]
  },
  {
   "cell_type": "code",
   "execution_count": 10,
   "id": "798f05ce-286b-4a3e-9b74-76c2250cf147",
   "metadata": {},
   "outputs": [
    {
     "data": {
      "text/plain": [
       "1"
      ]
     },
     "execution_count": 10,
     "metadata": {},
     "output_type": "execute_result"
    }
   ],
   "source": [
    "len(points)"
   ]
  },
  {
   "cell_type": "code",
   "execution_count": null,
   "id": "11e258b7-610f-41dc-a2ec-38f6c52d1b4a",
   "metadata": {},
   "outputs": [
    {
     "name": "stdout",
     "output_type": "stream",
     "text": [
      "['2021-11-4077-01', '']\n"
     ]
    }
   ],
   "source": [
    "if points is not None:\n",
    "    nrOfPoints = len(points)\n",
    "    \n",
    "    for i in range(nrOfPoints):\n",
    "        nextPointIndex = (i+1) % nrOfPoints\n",
    "        cv2.line(image, tuple(points[i][0]), tuple(points[nextPointIndex][0]), (255,0,0), 5)\n",
    "        print(decodedText)\n",
    " \n",
    "    cv2.imshow(\"Image\", image)\n",
    "    cv2.waitKey(0)\n",
    "    cv2.destroyAllWindows() \n",
    "else:\n",
    "    print(\"QR code not detected\")"
   ]
  },
  {
   "cell_type": "code",
   "execution_count": 11,
   "id": "3c744e00-23ae-4c8e-86db-ede585e00179",
   "metadata": {},
   "outputs": [
    {
     "data": {
      "text/plain": [
       "array([379, 586])"
      ]
     },
     "execution_count": 11,
     "metadata": {},
     "output_type": "execute_result"
    }
   ],
   "source": [
    "points[0][0]"
   ]
  },
  {
   "cell_type": "code",
   "execution_count": 12,
   "id": "261d2fd7-89ed-4b25-9561-5555014330ae",
   "metadata": {},
   "outputs": [
    {
     "data": {
      "text/plain": [
       "(379, 586)"
      ]
     },
     "execution_count": 12,
     "metadata": {},
     "output_type": "execute_result"
    }
   ],
   "source": [
    "tuple(points[0][0])"
   ]
  },
  {
   "cell_type": "code",
   "execution_count": null,
   "id": "1c3c4305-8d37-4210-9f50-b3aadcae2b92",
   "metadata": {},
   "outputs": [],
   "source": []
  }
 ],
 "metadata": {
  "kernelspec": {
   "display_name": "Python 3 (ipykernel)",
   "language": "python",
   "name": "python3"
  },
  "language_info": {
   "codemirror_mode": {
    "name": "ipython",
    "version": 3
   },
   "file_extension": ".py",
   "mimetype": "text/x-python",
   "name": "python",
   "nbconvert_exporter": "python",
   "pygments_lexer": "ipython3",
   "version": "3.8.11"
  }
 },
 "nbformat": 4,
 "nbformat_minor": 5
}
