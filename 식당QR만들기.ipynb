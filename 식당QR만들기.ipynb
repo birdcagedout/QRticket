{
 "cells": [
  {
   "cell_type": "code",
   "execution_count": 10,
   "id": "95373eff-f2fd-47f8-8c57-f131337683e6",
   "metadata": {},
   "outputs": [],
   "source": [
    "import cv2\n",
    "from PIL import Image\n",
    "from qrcode import *"
   ]
  },
  {
   "cell_type": "code",
   "execution_count": 9,
   "id": "7db6964d-7cd1-464a-9b41-f4c34b2f06e3",
   "metadata": {},
   "outputs": [],
   "source": [
    "# 헤더 = 노원구청 교통행정과 등록팀 (내 QR인지 식별자 역할)\n",
    "# 구분자 : 가맹점 = Member of Affiliation (직원 = Member of Staff)\n",
    "header = \"NWTAVR\"        # 6\n",
    "classifier = \"MA\"        # 2\n",
    "year_month = \"202111\"    # 6\n",
    "restaurant_list = [\"노란코끼리\", \"어장촌생선구이\", \"횡성목장\", \"항도(港都)\", \"전주콩나루\", \"옛날칼국수\", \"칠리사이공\", \"도나한우\", \"북경(北京)\", \"명문식당\", \"일성스시\", \"새싹비빔밥\", \"구내매점\"]"
   ]
  },
  {
   "cell_type": "code",
   "execution_count": 11,
   "id": "2a79575f-8934-4552-83e9-0d46f63d021b",
   "metadata": {},
   "outputs": [],
   "source": [
    "for restaurant in restaurant_list:\n",
    "\tqr = QRCode(version=2, error_correction=ERROR_CORRECT_M, box_size=10, border=1)\n",
    "\tqr.add_data(header + \"-\" + classifier + \"-\" + year_month + \"-\" + restaurant)\n",
    "\tqr.make(fit=True)\n",
    "\timg = qr.make_image(fill_color=\"black\", back_color=\"white\")\n",
    "\timg.save(year_month + \"-\" + restaurant + \".png\", \"PNG\")"
   ]
  },
  {
   "cell_type": "code",
   "execution_count": null,
   "id": "da46a173-b7a8-4771-8540-0339a9f3fda0",
   "metadata": {},
   "outputs": [],
   "source": []
  }
 ],
 "metadata": {
  "kernelspec": {
   "display_name": "Python 3 (ipykernel)",
   "language": "python",
   "name": "python3"
  },
  "language_info": {
   "codemirror_mode": {
    "name": "ipython",
    "version": 3
   },
   "file_extension": ".py",
   "mimetype": "text/x-python",
   "name": "python",
   "nbconvert_exporter": "python",
   "pygments_lexer": "ipython3",
   "version": "3.8.11"
  }
 },
 "nbformat": 4,
 "nbformat_minor": 5
}
