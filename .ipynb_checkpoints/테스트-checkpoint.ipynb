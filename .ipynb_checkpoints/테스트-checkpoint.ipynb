{
 "cells": [
  {
   "cell_type": "code",
   "execution_count": 1,
   "id": "5bad5133-21d9-4e89-8a07-2e3cd784428e",
   "metadata": {},
   "outputs": [],
   "source": [
    "import re\n",
    "import cv2\n",
    "from pyzbar.pyzbar import *"
   ]
  },
  {
   "cell_type": "code",
   "execution_count": 2,
   "id": "69f3ee7e-9447-4056-92d9-34e858ff8b35",
   "metadata": {},
   "outputs": [],
   "source": [
    "cap = cv2.VideoCapture(\"QRvideo1.MOV\")                 # 동영상 파일"
   ]
  },
  {
   "cell_type": "code",
   "execution_count": 3,
   "id": "0850dc9a-8118-4b6c-afb2-42793d5aa1ac",
   "metadata": {},
   "outputs": [
    {
     "data": {
      "text/plain": [
       "True"
      ]
     },
     "execution_count": 3,
     "metadata": {},
     "output_type": "execute_result"
    }
   ],
   "source": [
    "cap.isOpened()    # 카메라가 없어도 True일 수 있음 ==> read()에서 False"
   ]
  },
  {
   "cell_type": "code",
   "execution_count": 4,
   "id": "2625fa3a-22f5-498b-aaca-1ddebbf57215",
   "metadata": {},
   "outputs": [
    {
     "name": "stdout",
     "output_type": "stream",
     "text": [
      "Frame count: 343\n"
     ]
    }
   ],
   "source": [
    "frame_count = int(cap.get(cv2.CAP_PROP_FRAME_COUNT))\n",
    "print('Frame count:', frame_count)"
   ]
  },
  {
   "cell_type": "code",
   "execution_count": 5,
   "id": "6472c44d-65f8-495d-9358-9270af666622",
   "metadata": {},
   "outputs": [],
   "source": [
    "# 직원마다 다른 색깔로 네모 표시\n",
    "name_list = [\"전현호\", \"박선녕\", \"정성욱\", \"이재영\", \"김재형\", \"이희영\", \"신상용\", \"최미연\", \"이정선\"]\n",
    "phone_list = [\"4080\", \"4079\", \"4076\", \"4075\", \"4077\", \"4071\", \"4069\", \"4068\", \"4078\"]\n",
    "color_list = [\"#E32636\", \"#6C3483\", \"#FFA500\", \"#FB0E07\", \"#119617\", \"#AAEE00\", \"#0FF1C3\", \"#1155FF\", \"#AB3ED8\"]"
   ]
  },
  {
   "cell_type": "code",
   "execution_count": 7,
   "id": "0227b52f-8321-453b-b058-f0a06353a32d",
   "metadata": {},
   "outputs": [],
   "source": [
    "import ffmpeg\n",
    "out = cv2.VideoWriter(\"QR_result.mp4\", cv2.VideoWriter_fourcc(*'MP4V'), cap.get(cv2.CAP_PROP_FPS), (int(cap.get(3)),int(cap.get(4))))"
   ]
  },
  {
   "cell_type": "code",
   "execution_count": 7,
   "id": "885d9a69-55d5-4e58-86d3-8ad9a12568b5",
   "metadata": {},
   "outputs": [
    {
     "name": "stdout",
     "output_type": "stream",
     "text": [
      "QR code not detected\n",
      "QR code not detected\n",
      "QR code not detected\n",
      "QR code not detected\n",
      "QR code not detected\n",
      "QR code not detected\n",
      "QR code not detected\n",
      "QR code not detected\n",
      "QR code not detected\n",
      "QR code not detected\n",
      "QR code not detected\n",
      "QR code not detected\n",
      "QR code not detected\n",
      "QR code not detected\n",
      "QR code not detected\n",
      "QR code not detected\n",
      "QR code not detected\n",
      "QR code not detected\n",
      "QR code not detected\n",
      "QR code not detected\n",
      "QR code not detected\n",
      "QR code not detected\n",
      "QR code not detected\n",
      "QR code not detected\n",
      "QR code not detected\n",
      "QR code not detected\n",
      "QR code not detected\n",
      "QR code not detected\n",
      "QR code not detected\n",
      "QR code not detected\n",
      "QR code not detected\n",
      "QR code not detected\n",
      "QR code not detected\n",
      "QR code not detected\n",
      "QR code not detected\n",
      "QR code not detected\n",
      "QR code not detected\n",
      "QR code not detected\n",
      "QR code not detected\n",
      "QR code not detected\n",
      "QR code not detected\n",
      "QR code not detected\n",
      "QR code not detected\n",
      "QR code not detected\n",
      "QR code not detected\n",
      "QR code not detected\n",
      "QR code not detected\n",
      "QR code not detected\n",
      "QR code not detected\n",
      "QR code not detected\n",
      "QR code not detected\n",
      "QR code not detected\n",
      "QR code not detected\n",
      "QR code not detected\n",
      "QR code not detected\n",
      "QR code not detected\n",
      "QR code not detected\n",
      "QR code not detected\n",
      "QR code not detected\n",
      "QR code not detected\n",
      "QR code not detected\n",
      "QR code not detected\n",
      "QR code not detected\n"
     ]
    }
   ],
   "source": [
    "# cv2.namedWindow(\"Frame\", cv2.WINDOW_GUI_NORMAL)\n",
    "\n",
    "final_result = []\n",
    "\n",
    "for frame_index in range(frame_count):\n",
    "# while cap.isOpened() == True:\n",
    "\t\n",
    "\t# Frame 1장 읽어오기\n",
    "\topen_success, frame = cap.read()\n",
    "\tif open_success == False:\n",
    "\t\tcontinue\n",
    "\t\n",
    "\t# Frame에서 QR 읽어오기\n",
    "\tresult = decode(frame, symbols=[ZBarSymbol.QRCODE])\t# QR 인식 결과\n",
    "\tnum_of_QR = len(result)\n",
    "\t\n",
    "\tif num_of_QR != 0:\n",
    "\t\t# QR 1개당 루프\n",
    "\t\tfor eachQR in range(num_of_QR):\n",
    "\n",
    "\t\t\tpoints = len(result[eachQR][3])     # QR 1개당 인식된 폴리곤 테두리 점의 개수(보통 4각형=4개)\n",
    "\n",
    "\t\t\t# 경계선 컬러 설정\n",
    "\t\t\tyyyy, mm, code, sn = result[eachQR][0].decode('utf-8').split('-')\n",
    "\t\t\tcolor_hex_selected = color_list[phone_list.index(code)]\n",
    "\t\t\tcolor_selected = tuple(int(color_hex_selected[i:i+2], 16) for i in (5, 3, 1))\n",
    "\n",
    "\t\t\t# QR 1개당 경계선 그리기\n",
    "\t\t\tfor point in range(points):\n",
    "\t\t\t\tnext_point = (point+1) % points\n",
    "\t\t\t\tcv2.line(frame, tuple(result[eachQR][3][point]), tuple(result[eachQR][3][next_point]), color_selected, 5)    # (B,G,R), 굵기\n",
    "\n",
    "# \t\t\tprint(\"[Frame #{:3d}: \".format(frame_index), yyyy, mm, code, sn, \"\\t==>\", name_list[phone_list.index(code)])\n",
    "\t\t\tfinal_result.append(result[eachQR].data)\n",
    "\n",
    "# \t\tcv2.namedWindow(\"Frame\", cv2.WINDOW_GUI_NORMAL)\n",
    "\t\tcv2.imshow(\"Frame\", frame)    # 화면에 창 띄우기\n",
    "\t\tcv2.waitKey(50)              # 키보드에 키를 누를 때까지 기다림\n",
    "# \t\tcv2.destroyAllWindows()       # 창 종료\n",
    "\telse:\n",
    "\t\tprint(\"QR code not detected\")\n",
    "\t\t\n",
    "\tout.write(frame)\n",
    "\t\t\n",
    "cv2.waitKey(0)\n",
    "cv2.destroyAllWindows()       # 창 종료\n",
    "out.release()"
   ]
  },
  {
   "cell_type": "code",
   "execution_count": 13,
   "id": "9f416344-55a7-4c24-bfa9-3f1658a80f24",
   "metadata": {},
   "outputs": [
    {
     "data": {
      "text/plain": [
       "3381"
      ]
     },
     "execution_count": 13,
     "metadata": {},
     "output_type": "execute_result"
    }
   ],
   "source": [
    "len(final_result)"
   ]
  },
  {
   "cell_type": "code",
   "execution_count": 15,
   "id": "6c9c62fc-c86a-43f4-b7f4-f4ca5370d433",
   "metadata": {},
   "outputs": [],
   "source": [
    "final_set = set(final_result)"
   ]
  },
  {
   "cell_type": "code",
   "execution_count": 17,
   "id": "17cf306b-efa2-4a34-8d2c-7f30d37788ac",
   "metadata": {},
   "outputs": [],
   "source": [
    "len(final_set)"
   ]
  },
  {
   "cell_type": "code",
   "execution_count": 18,
   "id": "834a4802-4e24-4a71-8041-18f0acc88ac0",
   "metadata": {},
   "outputs": [],
   "source": []
  },
  {
   "cell_type": "code",
   "execution_count": null,
   "id": "683b9bc0-b0fa-4609-9fb5-c8ce36584911",
   "metadata": {},
   "outputs": [],
   "source": []
  }
 ],
 "metadata": {
  "kernelspec": {
   "display_name": "Python 3 (ipykernel)",
   "language": "python",
   "name": "python3"
  },
  "language_info": {
   "codemirror_mode": {
    "name": "ipython",
    "version": 3
   },
   "file_extension": ".py",
   "mimetype": "text/x-python",
   "name": "python",
   "nbconvert_exporter": "python",
   "pygments_lexer": "ipython3",
   "version": "3.8.11"
  }
 },
 "nbformat": 4,
 "nbformat_minor": 5
}
