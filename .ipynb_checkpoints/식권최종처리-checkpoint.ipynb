{
 "cells": [
  {
   "cell_type": "code",
   "execution_count": 1,
   "id": "4aed80ee-d094-4b9f-84be-2fbf8d0a1c8a",
   "metadata": {},
   "outputs": [],
   "source": [
    "import re\n",
    "import cv2\n",
    "import numpy as np\n",
    "from PIL import Image\n",
    "from tqdm.auto import tqdm\n",
    "from pyzbar.pyzbar import *"
   ]
  },
  {
   "cell_type": "code",
   "execution_count": 176,
   "id": "614830ef-57ee-46da-a1a8-7a0e67874415",
   "metadata": {},
   "outputs": [],
   "source": [
    "NUM = 12\n",
    "cap = cv2.VideoCapture(f\"C:/QRcodePy/2021년12월/{NUM}.MOV\")    # 파일 입력\n",
    "\n",
    "# cap = cv2.VideoCapture(0)    # 첫번째 카메라\n",
    "# cap = cv2.VideoCapture(\"rtsp://ID:PW@ip-address\")    # IP카메라"
   ]
  },
  {
   "cell_type": "code",
   "execution_count": 177,
   "id": "28d4771e-c3d5-4d86-8103-d146cdc7be9e",
   "metadata": {},
   "outputs": [
    {
     "data": {
      "text/plain": [
       "True"
      ]
     },
     "execution_count": 177,
     "metadata": {},
     "output_type": "execute_result"
    }
   ],
   "source": [
    "# 카메라 : 카메라가 없어도 True일 수 있음 ==> read()에서 False\n",
    "# 파일 : 파일을 읽을 수 없으면 False\n",
    "cap.isOpened()"
   ]
  },
  {
   "cell_type": "code",
   "execution_count": 178,
   "id": "23fd7394-1194-4af5-b100-d981f61fcd1a",
   "metadata": {},
   "outputs": [
    {
     "name": "stdout",
     "output_type": "stream",
     "text": [
      "Frame width: 3840\n",
      "Frame height: 2160\n",
      "Frame count: 168\n",
      "FPS: 59.96430696014277\n"
     ]
    }
   ],
   "source": [
    "# 속성 받아오기\n",
    "# cap.get(cv2.CAP_PROP_FRAME_WIDTH) = 가로 해상도(3)\n",
    "# cap.get(cv2.CAP_PROP_FRAME_HEIGHT) = 세로 해상도(4)\n",
    "# cap.get(cv2.CAP_PROP_FRAME_COUNT) = 총 프레임 수\n",
    "# cap.get(cv2.CAP_PROP_FPS) = 프레임율(5)\n",
    "\n",
    "width = int(cap.get(cv2.CAP_PROP_FRAME_WIDTH))\n",
    "height = int(cap.get(cv2.CAP_PROP_FRAME_HEIGHT))\n",
    "frame_count = int(cap.get(cv2.CAP_PROP_FRAME_COUNT))\n",
    "fps = cap.get(cv2.CAP_PROP_FPS)\n",
    "\n",
    "print('Frame width:', width)\n",
    "print('Frame height:', height)\n",
    "print('Frame count:', frame_count)\n",
    "print('FPS:', fps)"
   ]
  },
  {
   "cell_type": "code",
   "execution_count": 179,
   "id": "9de9f63c-e1c6-4109-bb63-d09bb42be4a3",
   "metadata": {},
   "outputs": [
    {
     "data": {
      "text/plain": [
       "168.0"
      ]
     },
     "execution_count": 179,
     "metadata": {},
     "output_type": "execute_result"
    }
   ],
   "source": [
    "# cap.set(cv2.CAP_PROP_FRAME_WIDTH, 1280)\n",
    "# cap.set(cv2.CAP_PROP_FRAME_HEIGHT, 720)\n",
    "# cap.set(cv2.CAP_PROP_FPS, 30)\n",
    "cap.get(cv2.CAP_PROP_FRAME_COUNT)"
   ]
  },
  {
   "cell_type": "code",
   "execution_count": 180,
   "id": "59443284-4ab4-41a0-8c26-0610bd6af418",
   "metadata": {},
   "outputs": [],
   "source": [
    "# 원하는 QR만 전처리\n",
    "\n",
    "# <QR Format>\n",
    "# 식당: NWTAVR-MA-202111-식당이름\n",
    "# 직원: 2021-11-4077-01              ==> 다음달부터 NWTAVR-MS-202112-4077-01\n",
    "\n",
    "# HEADER = 노원구청 교통행정과 등록팀 (내 QR인지 식별자 역할)\n",
    "# CLASS : 가맹점 = Member of Affiliation / 직원 = Member of Staff\n",
    "QR_HEADER = \"NWTAVR\"                  # 6\n",
    "QR_CLASS_MA = \"MA\"                    # 2\n",
    "QR_CLASS_MS = \"MS\"                    # 2\n",
    "QR_YEAR = \"2021\"                      # 4\n",
    "QR_MONTH = \"12\"                       # 2\n",
    "QR_YEAR_MONTH = QR_YEAR + QR_MONTH    # 6\n",
    "QR_SN = [\"0\"+str(i) for i in range(1,10)] + list(map(str, range(10, 21)))    # [\"01\", \"02\", ... \"19\", \"20\"]\n",
    "\n",
    "affil_list = [\"노란코끼리\", \"어장촌생선구이\", \"횡성목장\", \"항도(港都)\", \"전주콩나루\", \"옛날칼국수\", \"칠리사이공\", \"도나한우\", \"북경(北京)\", \"명문식당\", \"일성스시\", \"새싹비빔밥\", \"구내매점\"]\n",
    "\n",
    "code_list =  [\"4080\",    \"4076\",    \"4079\",    \"4069\",    \"4078\",    \"4071\",    \"4068\",    \"4075\",    \"4077\"   ]\n",
    "name_list =  [\"전현호\",  \"정성욱\",  \"박선녕\",  \"신상용\",  \"이정선\",  \"이희영\",  \"최미연\",  \"이재영\",  \"김재형\" ]\n",
    "color_list = [\"#E32636\", \"#FFA500\", \"#FF5511\", \"#0FF1C3\", \"#AB3ED8\", \"#AAEE00\", \"#1155FF\", \"#FCE205\", \"#119617\"]\n",
    "\n",
    "name_by_code =  {\"4080\":\"전현호\",  \"4076\":\"정성욱\",  \"4079\":\"박선녕\",  \"4069\":\"신상용\",  \"4078\":\"이정선\",  \"4071\":\"이희영\",  \"4068\":\"최미연\",  \"4075\":\"이재영\",  \"4077\":\"김재형\"}\n",
    "color_by_code = {\"4080\":\"#E32636\", \"4076\":\"#FFA500\", \"4079\":\"#FF5511\", \"4069\":\"#0FF1C3\", \"4078\":\"#AB3ED8\", \"4071\":\"#AAEE00\", \"4068\":\"#1155FF\", \"4075\":\"#FCE205\", \"4077\":\"#119617\"}\n",
    "\n",
    "MA_pattern = re.compile(QR_HEADER + \"-\" + QR_CLASS_MA + \"-\" + QR_YEAR_MONTH + \"-\" + \".+\")    # NWTAVR-MA-202111-노란코끼리\n",
    "# MS_pattern = re.compile(QR_YEAR + \"-\" + QR_MONTH + \"-\" + \"[0-9]{4}-[0-9]{2}\")                # 2021-11-4077-01\n",
    "MS_pattern = re.compile(QR_HEADER + \"-\" + QR_CLASS_MS + \"-\" + QR_YEAR_MONTH + \"-\" + \".+\")  # NWTAVR-MS-202112-4077-01 (12월부터)\n"
   ]
  },
  {
   "cell_type": "code",
   "execution_count": 181,
   "id": "2fe4598e-1f02-4e9e-ae95-68a9e13b2d09",
   "metadata": {},
   "outputs": [],
   "source": [
    "fourcc = cv2.VideoWriter_fourcc(*'DIVX')\n",
    "out = cv2.VideoWriter(f\"C:/QRcodePy/2021년12월/QR_result_{NUM}.avi\", fourcc, fps, (width, height))"
   ]
  },
  {
   "cell_type": "code",
   "execution_count": 182,
   "id": "ac7eec6a-a0a2-45f5-875b-84b6504218e8",
   "metadata": {},
   "outputs": [
    {
     "data": {
      "application/vnd.jupyter.widget-view+json": {
       "model_id": "75176cbfd1f04e5289301b1d782f2079",
       "version_major": 2,
       "version_minor": 0
      },
      "text/plain": [
       "  0%|          | 0/168 [00:00<?, ?it/s]"
      ]
     },
     "metadata": {},
     "output_type": "display_data"
    }
   ],
   "source": [
    "detected_MA_list = []    # 식당이름\n",
    "detected_MS_list = []    # 식권QR\n",
    "\n",
    "# cv2.namedWindow(\"Frame\", cv2.WINDOW_NORMAL)\n",
    "\n",
    "for frame_index in tqdm(range(frame_count)):\n",
    "\n",
    "\t# 읽어오지 못한 경우 이 시점에서 success = False\n",
    "\tsuccess, frame = cap.read()\n",
    "\tif success == False:\n",
    "\t\tbreak\n",
    "\t\n",
    "\t# 프레임에서 QR code 찾기\n",
    "\tresult = decode(frame, symbols=[ZBarSymbol.QRCODE])\n",
    "\tnum_of_QR = len(result)\n",
    "\t# print(f\"[전처리 전] 발견된 QR개수: {num_of_QR}\")\n",
    "    \n",
    "    \n",
    "\t# 만약 하나도 발견되지 않았다면 다음 Frame\n",
    "\tif num_of_QR == 0:\n",
    "\t\tprint(\"QR code not detected\")\n",
    "\t\tcontinue\n",
    "\t\n",
    "\t\n",
    "\t# 프레임 1개에서 발견한 여러개의 QR\n",
    "\tfor eachQR in result:\n",
    "\t\n",
    "\t\t# QR 형식검증 : MS/MA패턴\n",
    "\t\teachQR_data = eachQR.data.decode('utf-8')\n",
    "\t\tmatch_result_MA = MA_pattern.match(eachQR_data)\n",
    "\t\tmatch_result_MS = MS_pattern.match(eachQR_data)\n",
    "\n",
    "\t\tif match_result_MA is None:\n",
    "\t\t\tif match_result_MS is None:\n",
    "\t\t\t\tresult.remove(eachQR)\n",
    "\t\t\t\tcontinue\n",
    "\t\t\telse:\n",
    "\t\t\t\tdetected_MS_list.append(match_result_MS.group())\n",
    "\t\telse:\n",
    "\t\t\tdetected_MA_list.append(match_result_MA.group())\n",
    "\n",
    "\t\t# QR 테두리 선그리기\n",
    "\t\tpoints = len(eachQR.polygon)     # QR 1개당 인식된 폴리곤 테두리 점의 개수(보통 4각형=4개)\n",
    "\n",
    "\t\t# 경계선 컬러 설정\n",
    "\t\tif match_result_MS is not None:\n",
    "\t\t\t_header, _ms, _yyyymm, code, sn = eachQR.data.decode('utf-8').split('-')\n",
    "\t\t\tcolor_hex_selected = color_by_code[code]\n",
    "\t\t\tcolor_selected = tuple(int(color_hex_selected[i:i+2], 16) for i in (5, 3, 1))\n",
    "\t\telse:\n",
    "\t\t\theader, classifier, year_month, affil_name = eachQR.data.decode('utf-8').split('-')\n",
    "\t\t\tcolor_selected = (0, 0, 255)    # 식당QR은 빨간색\n",
    "\n",
    "\t\t# QR 1개당 경계선 그리기\n",
    "\t\tfor point in range(points):\n",
    "\t\t\tnext_point = (point+1) % points\n",
    "\t\t\tcv2.line(frame, tuple(eachQR.polygon[point]), tuple(eachQR.polygon[next_point]), color_selected, 5)    # (B,G,R), 굵기\n",
    "            \n",
    "\t\t# cv2.imshow(\"Frame\", frame)    # 화면에 창 띄우기\n",
    "\t\n",
    "\tnum_of_QR_preprocessed = len(result)\n",
    "\t# print(\"Frame  #{:3}/{:3} 처리 끝    ====>    전처리 전: {:2} \\t 전처리 후: {:2}\".format(frame_index+1, frame_count, num_of_QR, num_of_QR_preprocessed))\n",
    "\tout.write(frame)\n",
    "\n",
    "# cv2.waitKey(0)                # 키보드에 키를 누를 때까지 기다림\n",
    "# cv2.destroyAllWindows()       # 창 종료    \n",
    "cap.release()\n",
    "out.release()"
   ]
  },
  {
   "cell_type": "code",
   "execution_count": 183,
   "id": "31c81b20-b106-4932-b839-376a49692d25",
   "metadata": {},
   "outputs": [
    {
     "data": {
      "text/plain": [
       "168"
      ]
     },
     "execution_count": 183,
     "metadata": {},
     "output_type": "execute_result"
    }
   ],
   "source": [
    "# QR 검출된 식당 개수(중복 포함)\n",
    "\n",
    "len(detected_MA_list)"
   ]
  },
  {
   "cell_type": "code",
   "execution_count": 184,
   "id": "5933ada2-8e86-4987-b9ec-661bb535e46d",
   "metadata": {},
   "outputs": [
    {
     "name": "stdout",
     "output_type": "stream",
     "text": [
      "1\n",
      "['NWTAVR-MA-202112-일성스시']\n"
     ]
    }
   ],
   "source": [
    "# 중복 제거한 \"식당\" ====> 1개가 정상\n",
    "\n",
    "detected_MA_set = set(detected_MA_list)\n",
    "MA_list = list(detected_MA_set)\n",
    "\n",
    "print(len(MA_list))\n",
    "print(MA_list)"
   ]
  },
  {
   "cell_type": "code",
   "execution_count": 185,
   "id": "bacc0cf6-a216-4369-9ca9-829af8e641dd",
   "metadata": {},
   "outputs": [
    {
     "data": {
      "text/plain": [
       "685"
      ]
     },
     "execution_count": 185,
     "metadata": {},
     "output_type": "execute_result"
    }
   ],
   "source": [
    "# QR 검출된 직원 명수(중복 포함)\n",
    "\n",
    "len(detected_MS_list)"
   ]
  },
  {
   "cell_type": "code",
   "execution_count": 186,
   "id": "cbdd10c5-a0b0-4e47-bd5e-4ab70f9892be",
   "metadata": {},
   "outputs": [
    {
     "name": "stdout",
     "output_type": "stream",
     "text": [
      "5\n",
      "['NWTAVR-MS-202112-4071-02', 'NWTAVR-MS-202112-4071-12', 'NWTAVR-MS-202112-4071-17', 'NWTAVR-MS-202112-4078-10', 'NWTAVR-MS-202112-4079-17']\n"
     ]
    }
   ],
   "source": [
    "# 중복 제거한 \"직원\" ====> 0개 이상\n",
    "\n",
    "detected_MS_set = set(detected_MS_list)    # set은 자동 sort\n",
    "MS_list = list(detected_MS_set)    # list는 자동 sort 안 됨\n",
    "MS_list = sorted(MS_list)\n",
    "\n",
    "print(len(MS_list))\n",
    "print(MS_list)"
   ]
  },
  {
   "cell_type": "code",
   "execution_count": 187,
   "id": "2ba35a2e-c5a5-404a-a604-324440ca5b48",
   "metadata": {},
   "outputs": [],
   "source": [
    "# QR 검출된 직원 리스트\n",
    "staff_list = []    # 이름 리스트\n",
    "count_list = []    # 개수 리스트\n",
    "\n",
    "if len(MS_list) != 0:\n",
    "\t_header, _ms, _yyyymm, current_code, _sn = MS_list[0].split(\"-\")\n",
    "\tcurrent_count = 0\n",
    "\t\n",
    "\tfor index, eachMS in enumerate(MS_list):\n",
    "\t\t_header, _ms, _yyyymm, code, _sn = eachMS.split(\"-\")\n",
    "\t\t\n",
    "\t\tif code != current_code:\n",
    "\t\t\tstaff_list.append(current_code)\n",
    "\t\t\tcount_list.append(current_count)\n",
    "\t\t\t\n",
    "\t\t\tcurrent_code = code\n",
    "\t\t\tcurrent_count = 1\n",
    "\t\telse:\n",
    "\t\t\tcurrent_count += 1\n",
    "\t\t\n",
    "\t\tif (index == (len(MS_list) - 1)):\n",
    "\t\t\tstaff_list.append(current_code)\n",
    "\t\t\tcount_list.append(current_count)\n",
    "\t\t\tbreak\n",
    "else:\n",
    "\tprint(\"QR 검출된 직원이 없습니다.\")\n"
   ]
  },
  {
   "cell_type": "code",
   "execution_count": 188,
   "id": "6c702108-d527-4831-97d8-9887bd8d7033",
   "metadata": {},
   "outputs": [
    {
     "name": "stdout",
     "output_type": "stream",
     "text": [
      "['4071', '4078', '4079']\n",
      "[3, 1, 1]\n"
     ]
    }
   ],
   "source": [
    "print(staff_list)\n",
    "print(count_list)"
   ]
  },
  {
   "cell_type": "code",
   "execution_count": 189,
   "id": "0cb86294-eb27-49d7-ab6b-9f8a1cec580d",
   "metadata": {},
   "outputs": [
    {
     "data": {
      "text/plain": [
       "{'전현호': 0,\n",
       " '정성욱': 0,\n",
       " '박선녕': 1,\n",
       " '신상용': 0,\n",
       " '이정선': 1,\n",
       " '이희영': 3,\n",
       " '최미연': 0,\n",
       " '이재영': 0,\n",
       " '김재형': 0}"
      ]
     },
     "execution_count": 189,
     "metadata": {},
     "output_type": "execute_result"
    }
   ],
   "source": [
    "# python 3.7부터 dict = ordered\n",
    "final_MS_dict = {}\n",
    "\n",
    "# 전체 code_list : ['4080', '4076', '4079', '4069', '4078', '4071', '4068', '4075', '4077']\n",
    "for _code in code_list:\n",
    "\tname = name_by_code[_code]\n",
    "\t\n",
    "\tif _code not in staff_list:\n",
    "\t\tfinal_MS_dict[name] = 0\n",
    "\telse:\n",
    "\t\tfinal_MS_dict[name] = count_list[staff_list.index(_code)]\n",
    "\n",
    "final_MS_dict"
   ]
  },
  {
   "cell_type": "code",
   "execution_count": 190,
   "id": "5d150ea7-174e-4cae-9fd1-9247dc08d045",
   "metadata": {},
   "outputs": [
    {
     "name": "stdout",
     "output_type": "stream",
     "text": [
      "2021.12.  일성스시  총5개\n",
      "================================\n",
      "전현호 :  0개\n",
      "정성욱 :  0개\n",
      "박선녕 :  1개\n",
      "신상용 :  0개\n",
      "이정선 :  1개\n",
      "이희영 :  3개\n",
      "최미연 :  0개\n",
      "이재영 :  0개\n",
      "김재형 :  0개\n"
     ]
    }
   ],
   "source": [
    "final_date = MA_list[0].split(\"-\")[2]\n",
    "final_affil = MA_list[0].split(\"-\")[3]\n",
    "\n",
    "print(f\"{final_date[:4]}.{final_date[4:]}.  {final_affil}  총{sum(final_MS_dict.values())}개\")\n",
    "print(\"=\"*32)\n",
    "\n",
    "for key, val in zip(final_MS_dict.keys(), final_MS_dict.values()):\n",
    "\tprint(f\"{key} : {val:2}개\")"
   ]
  },
  {
   "cell_type": "code",
   "execution_count": 191,
   "id": "7a100538-e954-4cec-9a20-d2d8fcd77cfb",
   "metadata": {},
   "outputs": [],
   "source": [
    "if NUM == 1:\n",
    "\tfinal_MA_list = []\n",
    "\tfinal_MS_list = []\n",
    "\n",
    "final_MA_list.append(final_affil)\n",
    "final_MS_list.append(final_MS_dict)"
   ]
  },
  {
   "cell_type": "code",
   "execution_count": 192,
   "id": "4e0d1f8b-fb35-4a60-b130-4bcfb0f126b3",
   "metadata": {},
   "outputs": [
    {
     "name": "stdout",
     "output_type": "stream",
     "text": [
      "['노란코끼리', '어장촌생선구이', '횡성목장', '항도(港都)', '전주콩나루', '옛날칼국수', '칠리사이공', '도나한우', '북경(北京)', '명문식당', '일성스시']\n",
      "[{'전현호': 3, '정성욱': 1, '박선녕': 11, '신상용': 0, '이정선': 7, '이희영': 3, '최미연': 2, '이재영': 11, '김재형': 0}, {'전현호': 6, '정성욱': 0, '박선녕': 0, '신상용': 0, '이정선': 1, '이희영': 0, '최미연': 2, '이재영': 1, '김재형': 2}, {'전현호': 3, '정성욱': 4, '박선녕': 0, '신상용': 0, '이정선': 0, '이희영': 0, '최미연': 2, '이재영': 2, '김재형': 3}, {'전현호': 0, '정성욱': 1, '박선녕': 0, '신상용': 0, '이정선': 0, '이희영': 0, '최미연': 1, '이재영': 0, '김재형': 0}, {'전현호': 1, '정성욱': 2, '박선녕': 2, '신상용': 1, '이정선': 1, '이희영': 2, '최미연': 1, '이재영': 1, '김재형': 3}, {'전현호': 0, '정성욱': 1, '박선녕': 0, '신상용': 0, '이정선': 0, '이희영': 0, '최미연': 0, '이재영': 0, '김재형': 0}, {'전현호': 0, '정성욱': 0, '박선녕': 1, '신상용': 0, '이정선': 1, '이희영': 1, '최미연': 0, '이재영': 0, '김재형': 0}, {'전현호': 0, '정성욱': 6, '박선녕': 5, '신상용': 0, '이정선': 4, '이희영': 4, '최미연': 6, '이재영': 0, '김재형': 0}, {'전현호': 0, '정성욱': 1, '박선녕': 0, '신상용': 0, '이정선': 0, '이희영': 0, '최미연': 2, '이재영': 0, '김재형': 1}, {'전현호': 6, '정성욱': 4, '박선녕': 0, '신상용': 1, '이정선': 0, '이희영': 0, '최미연': 1, '이재영': 5, '김재형': 5}, {'전현호': 0, '정성욱': 0, '박선녕': 1, '신상용': 0, '이정선': 1, '이희영': 3, '최미연': 0, '이재영': 0, '김재형': 0}]\n"
     ]
    }
   ],
   "source": [
    "print(final_MA_list)\n",
    "print(final_MS_list)"
   ]
  },
  {
   "cell_type": "markdown",
   "id": "b5c29d15-b52e-44c2-a907-bd3dc997c51b",
   "metadata": {
    "tags": []
   },
   "source": [
    "## 동영상 파일 QR처리 끝"
   ]
  },
  {
   "cell_type": "markdown",
   "id": "c606de2b-40e6-480f-b985-29abf3a85781",
   "metadata": {},
   "source": [
    "## Pandas 데이터프레임에 최종 입력 시작"
   ]
  },
  {
   "cell_type": "code",
   "execution_count": 157,
   "id": "6c5fc42a-5c11-4e10-8c58-e19dad38053e",
   "metadata": {},
   "outputs": [
    {
     "data": {
      "text/html": [
       "<div>\n",
       "<style scoped>\n",
       "    .dataframe tbody tr th:only-of-type {\n",
       "        vertical-align: middle;\n",
       "    }\n",
       "\n",
       "    .dataframe tbody tr th {\n",
       "        vertical-align: top;\n",
       "    }\n",
       "\n",
       "    .dataframe thead th {\n",
       "        text-align: right;\n",
       "    }\n",
       "</style>\n",
       "<table border=\"1\" class=\"dataframe\">\n",
       "  <thead>\n",
       "    <tr style=\"text-align: right;\">\n",
       "      <th></th>\n",
       "      <th>직원성명</th>\n",
       "      <th>노란코끼리</th>\n",
       "      <th>어장촌생선구이</th>\n",
       "      <th>횡성목장</th>\n",
       "      <th>항도(港都)</th>\n",
       "      <th>전주콩나루</th>\n",
       "      <th>옛날칼국수</th>\n",
       "      <th>칠리사이공</th>\n",
       "      <th>도나한우</th>\n",
       "      <th>북경(北京)</th>\n",
       "      <th>명문식당</th>\n",
       "      <th>일성스시</th>\n",
       "      <th>새싹비빔밥</th>\n",
       "      <th>구내매점</th>\n",
       "    </tr>\n",
       "  </thead>\n",
       "  <tbody>\n",
       "  </tbody>\n",
       "</table>\n",
       "</div>"
      ],
      "text/plain": [
       "Empty DataFrame\n",
       "Columns: [직원성명, 노란코끼리, 어장촌생선구이, 횡성목장, 항도(港都), 전주콩나루, 옛날칼국수, 칠리사이공, 도나한우, 북경(北京), 명문식당, 일성스시, 새싹비빔밥, 구내매점]\n",
       "Index: []"
      ]
     },
     "execution_count": 157,
     "metadata": {},
     "output_type": "execute_result"
    }
   ],
   "source": [
    "import pandas as pd\n",
    "\n",
    "column_list = [\"직원성명\", \"노란코끼리\", \"어장촌생선구이\", \"횡성목장\", \"항도(港都)\", \"전주콩나루\", \"옛날칼국수\", \"칠리사이공\", \"도나한우\", \"북경(北京)\", \"명문식당\", \"일성스시\", \"새싹비빔밥\", \"구내매점\"]\n",
    "df = pd.DataFrame(columns=column_list)\n",
    "df"
   ]
  },
  {
   "cell_type": "code",
   "execution_count": 158,
   "id": "38c8f417-8651-4f52-b8c1-35ca578321e0",
   "metadata": {},
   "outputs": [
    {
     "data": {
      "text/html": [
       "<div>\n",
       "<style scoped>\n",
       "    .dataframe tbody tr th:only-of-type {\n",
       "        vertical-align: middle;\n",
       "    }\n",
       "\n",
       "    .dataframe tbody tr th {\n",
       "        vertical-align: top;\n",
       "    }\n",
       "\n",
       "    .dataframe thead th {\n",
       "        text-align: right;\n",
       "    }\n",
       "</style>\n",
       "<table border=\"1\" class=\"dataframe\">\n",
       "  <thead>\n",
       "    <tr style=\"text-align: right;\">\n",
       "      <th></th>\n",
       "      <th>직원성명</th>\n",
       "      <th>노란코끼리</th>\n",
       "      <th>어장촌생선구이</th>\n",
       "      <th>횡성목장</th>\n",
       "      <th>항도(港都)</th>\n",
       "      <th>전주콩나루</th>\n",
       "      <th>옛날칼국수</th>\n",
       "      <th>칠리사이공</th>\n",
       "      <th>도나한우</th>\n",
       "      <th>북경(北京)</th>\n",
       "      <th>명문식당</th>\n",
       "      <th>일성스시</th>\n",
       "      <th>새싹비빔밥</th>\n",
       "      <th>구내매점</th>\n",
       "    </tr>\n",
       "  </thead>\n",
       "  <tbody>\n",
       "    <tr>\n",
       "      <th>0</th>\n",
       "      <td>전현호</td>\n",
       "      <td>3</td>\n",
       "      <td>6</td>\n",
       "      <td>3</td>\n",
       "      <td>0</td>\n",
       "      <td>1</td>\n",
       "      <td>0</td>\n",
       "      <td>0</td>\n",
       "      <td>0</td>\n",
       "      <td>0</td>\n",
       "      <td>NaN</td>\n",
       "      <td>NaN</td>\n",
       "      <td>NaN</td>\n",
       "      <td>NaN</td>\n",
       "    </tr>\n",
       "    <tr>\n",
       "      <th>1</th>\n",
       "      <td>정성욱</td>\n",
       "      <td>1</td>\n",
       "      <td>0</td>\n",
       "      <td>4</td>\n",
       "      <td>1</td>\n",
       "      <td>2</td>\n",
       "      <td>1</td>\n",
       "      <td>0</td>\n",
       "      <td>6</td>\n",
       "      <td>1</td>\n",
       "      <td>NaN</td>\n",
       "      <td>NaN</td>\n",
       "      <td>NaN</td>\n",
       "      <td>NaN</td>\n",
       "    </tr>\n",
       "    <tr>\n",
       "      <th>2</th>\n",
       "      <td>박선녕</td>\n",
       "      <td>11</td>\n",
       "      <td>0</td>\n",
       "      <td>0</td>\n",
       "      <td>0</td>\n",
       "      <td>2</td>\n",
       "      <td>0</td>\n",
       "      <td>1</td>\n",
       "      <td>5</td>\n",
       "      <td>0</td>\n",
       "      <td>NaN</td>\n",
       "      <td>NaN</td>\n",
       "      <td>NaN</td>\n",
       "      <td>NaN</td>\n",
       "    </tr>\n",
       "    <tr>\n",
       "      <th>3</th>\n",
       "      <td>신상용</td>\n",
       "      <td>0</td>\n",
       "      <td>0</td>\n",
       "      <td>0</td>\n",
       "      <td>0</td>\n",
       "      <td>1</td>\n",
       "      <td>0</td>\n",
       "      <td>0</td>\n",
       "      <td>0</td>\n",
       "      <td>0</td>\n",
       "      <td>NaN</td>\n",
       "      <td>NaN</td>\n",
       "      <td>NaN</td>\n",
       "      <td>NaN</td>\n",
       "    </tr>\n",
       "    <tr>\n",
       "      <th>4</th>\n",
       "      <td>이정선</td>\n",
       "      <td>7</td>\n",
       "      <td>1</td>\n",
       "      <td>0</td>\n",
       "      <td>0</td>\n",
       "      <td>1</td>\n",
       "      <td>0</td>\n",
       "      <td>1</td>\n",
       "      <td>4</td>\n",
       "      <td>0</td>\n",
       "      <td>NaN</td>\n",
       "      <td>NaN</td>\n",
       "      <td>NaN</td>\n",
       "      <td>NaN</td>\n",
       "    </tr>\n",
       "    <tr>\n",
       "      <th>5</th>\n",
       "      <td>이희영</td>\n",
       "      <td>3</td>\n",
       "      <td>0</td>\n",
       "      <td>0</td>\n",
       "      <td>0</td>\n",
       "      <td>2</td>\n",
       "      <td>0</td>\n",
       "      <td>1</td>\n",
       "      <td>4</td>\n",
       "      <td>0</td>\n",
       "      <td>NaN</td>\n",
       "      <td>NaN</td>\n",
       "      <td>NaN</td>\n",
       "      <td>NaN</td>\n",
       "    </tr>\n",
       "    <tr>\n",
       "      <th>6</th>\n",
       "      <td>최미연</td>\n",
       "      <td>2</td>\n",
       "      <td>2</td>\n",
       "      <td>2</td>\n",
       "      <td>1</td>\n",
       "      <td>1</td>\n",
       "      <td>0</td>\n",
       "      <td>0</td>\n",
       "      <td>6</td>\n",
       "      <td>2</td>\n",
       "      <td>NaN</td>\n",
       "      <td>NaN</td>\n",
       "      <td>NaN</td>\n",
       "      <td>NaN</td>\n",
       "    </tr>\n",
       "    <tr>\n",
       "      <th>7</th>\n",
       "      <td>이재영</td>\n",
       "      <td>11</td>\n",
       "      <td>1</td>\n",
       "      <td>2</td>\n",
       "      <td>0</td>\n",
       "      <td>1</td>\n",
       "      <td>0</td>\n",
       "      <td>0</td>\n",
       "      <td>0</td>\n",
       "      <td>0</td>\n",
       "      <td>NaN</td>\n",
       "      <td>NaN</td>\n",
       "      <td>NaN</td>\n",
       "      <td>NaN</td>\n",
       "    </tr>\n",
       "    <tr>\n",
       "      <th>8</th>\n",
       "      <td>김재형</td>\n",
       "      <td>0</td>\n",
       "      <td>2</td>\n",
       "      <td>3</td>\n",
       "      <td>0</td>\n",
       "      <td>3</td>\n",
       "      <td>0</td>\n",
       "      <td>0</td>\n",
       "      <td>0</td>\n",
       "      <td>1</td>\n",
       "      <td>NaN</td>\n",
       "      <td>NaN</td>\n",
       "      <td>NaN</td>\n",
       "      <td>NaN</td>\n",
       "    </tr>\n",
       "  </tbody>\n",
       "</table>\n",
       "</div>"
      ],
      "text/plain": [
       "  직원성명  노란코끼리  어장촌생선구이  횡성목장  항도(港都)  전주콩나루  옛날칼국수  칠리사이공  도나한우  북경(北京) 명문식당  \\\n",
       "0  전현호      3        6     3       0      1      0      0     0       0  NaN   \n",
       "1  정성욱      1        0     4       1      2      1      0     6       1  NaN   \n",
       "2  박선녕     11        0     0       0      2      0      1     5       0  NaN   \n",
       "3  신상용      0        0     0       0      1      0      0     0       0  NaN   \n",
       "4  이정선      7        1     0       0      1      0      1     4       0  NaN   \n",
       "5  이희영      3        0     0       0      2      0      1     4       0  NaN   \n",
       "6  최미연      2        2     2       1      1      0      0     6       2  NaN   \n",
       "7  이재영     11        1     2       0      1      0      0     0       0  NaN   \n",
       "8  김재형      0        2     3       0      3      0      0     0       1  NaN   \n",
       "\n",
       "  일성스시 새싹비빔밥 구내매점  \n",
       "0  NaN   NaN  NaN  \n",
       "1  NaN   NaN  NaN  \n",
       "2  NaN   NaN  NaN  \n",
       "3  NaN   NaN  NaN  \n",
       "4  NaN   NaN  NaN  \n",
       "5  NaN   NaN  NaN  \n",
       "6  NaN   NaN  NaN  \n",
       "7  NaN   NaN  NaN  \n",
       "8  NaN   NaN  NaN  "
      ]
     },
     "execution_count": 158,
     "metadata": {},
     "output_type": "execute_result"
    }
   ],
   "source": [
    "df['직원성명'] = name_list\n",
    "for col_name, val_dict in zip(final_MA_list, final_MS_list):\n",
    "\tdf[col_name] = val_dict.values()\n",
    "df"
   ]
  },
  {
   "cell_type": "code",
   "execution_count": 2,
   "id": "497d0949-ad67-4d8a-b3b4-00a0ee592c51",
   "metadata": {},
   "outputs": [
    {
     "ename": "NameError",
     "evalue": "name 'df' is not defined",
     "output_type": "error",
     "traceback": [
      "\u001b[1;31m---------------------------------------------------------------------------\u001b[0m",
      "\u001b[1;31mNameError\u001b[0m                                 Traceback (most recent call last)",
      "\u001b[1;32m~\\AppData\\Local\\Temp/ipykernel_17108/3962603697.py\u001b[0m in \u001b[0;36m<module>\u001b[1;34m\u001b[0m\n\u001b[1;32m----> 1\u001b[1;33m \u001b[0mdf\u001b[0m\u001b[1;33m[\u001b[0m\u001b[1;34m'구내매점'\u001b[0m\u001b[1;33m]\u001b[0m \u001b[1;33m=\u001b[0m \u001b[1;33m[\u001b[0m\u001b[1;36m0\u001b[0m\u001b[1;33m,\u001b[0m \u001b[1;36m0\u001b[0m\u001b[1;33m,\u001b[0m \u001b[1;36m0\u001b[0m\u001b[1;33m,\u001b[0m \u001b[1;36m0\u001b[0m\u001b[1;33m,\u001b[0m \u001b[1;36m0\u001b[0m\u001b[1;33m,\u001b[0m \u001b[1;36m0\u001b[0m\u001b[1;33m,\u001b[0m \u001b[1;36m0\u001b[0m\u001b[1;33m,\u001b[0m \u001b[1;36m0\u001b[0m\u001b[1;33m,\u001b[0m \u001b[1;36m0\u001b[0m\u001b[1;33m]\u001b[0m\u001b[1;33m\u001b[0m\u001b[1;33m\u001b[0m\u001b[0m\n\u001b[0m\u001b[0;32m      2\u001b[0m \u001b[0mdf\u001b[0m\u001b[1;33m\u001b[0m\u001b[1;33m\u001b[0m\u001b[0m\n",
      "\u001b[1;31mNameError\u001b[0m: name 'df' is not defined"
     ]
    }
   ],
   "source": [
    "df['구내매점'] = [0, 0, 0, 0, 0, 0, 0, 0, 0]\n",
    "df"
   ]
  },
  {
   "cell_type": "markdown",
   "id": "9e343889-7903-4b69-bcc4-b220568d4780",
   "metadata": {},
   "source": [
    "## 최종 완성 !!"
   ]
  }
 ],
 "metadata": {
  "kernelspec": {
   "display_name": "Python 3 (ipykernel)",
   "language": "python",
   "name": "python3"
  },
  "language_info": {
   "codemirror_mode": {
    "name": "ipython",
    "version": 3
   },
   "file_extension": ".py",
   "mimetype": "text/x-python",
   "name": "python",
   "nbconvert_exporter": "python",
   "pygments_lexer": "ipython3",
   "version": "3.8.11"
  }
 },
 "nbformat": 4,
 "nbformat_minor": 5
}
