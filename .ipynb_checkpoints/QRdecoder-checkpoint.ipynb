{
 "cells": [
  {
   "cell_type": "code",
   "execution_count": 1,
   "id": "e230b8c1-78ab-43b8-a0e7-022c3f103ee3",
   "metadata": {},
   "outputs": [],
   "source": [
    "import cv2\n",
    "import numpy as np"
   ]
  },
  {
   "cell_type": "code",
   "execution_count": 2,
   "id": "0abb0938-c811-4f1a-89ad-5775a0418add",
   "metadata": {},
   "outputs": [],
   "source": [
    "image = cv2.imread('C:\\BarcodePy\\QRtest.png')"
   ]
  },
  {
   "cell_type": "code",
   "execution_count": null,
   "id": "f6fa2843-bc17-4b7f-a63b-9d0c2dbd688f",
   "metadata": {},
   "outputs": [],
   "source": [
    "QRCodeDetector = cv2.QRCodeDetector()"
   ]
  },
  {
   "cell_type": "code",
   "execution_count": 4,
   "id": "0a66ee51-d687-4e58-8b0d-42154aacdd32",
   "metadata": {},
   "outputs": [],
   "source": [
    "decodedText, points, _ = QRCodeDetector.detectAndDecodeM(image)"
   ]
  },
  {
   "cell_type": "code",
   "execution_count": 5,
   "id": "74f9cdd1-bc69-4387-8f9f-2ceb56feb642",
   "metadata": {},
   "outputs": [
    {
     "data": {
      "text/plain": [
       "array([[[379., 586.],\n",
       "        [452., 586.],\n",
       "        [452., 659.],\n",
       "        [379., 659.]]], dtype=float32)"
      ]
     },
     "execution_count": 5,
     "metadata": {},
     "output_type": "execute_result"
    }
   ],
   "source": [
    "points"
   ]
  },
  {
   "cell_type": "code",
   "execution_count": 8,
   "id": "b6d348bd-97fa-4fd2-a907-346d6c5eeec2",
   "metadata": {},
   "outputs": [
    {
     "data": {
      "text/plain": [
       "array([[[379, 586],\n",
       "        [452, 586],\n",
       "        [452, 659],\n",
       "        [379, 659]]])"
      ]
     },
     "execution_count": 8,
     "metadata": {},
     "output_type": "execute_result"
    }
   ],
   "source": [
    "points = np.array(points, dtype=np.int32)\n",
    "\n",
    "points"
   ]
  },
  {
   "cell_type": "code",
   "execution_count": 9,
   "id": "a683fa40-3022-4481-90a2-aa766e5d4b7e",
   "metadata": {},
   "outputs": [
    {
     "data": {
      "text/plain": [
       "(379, 586)"
      ]
     },
     "execution_count": 9,
     "metadata": {},
     "output_type": "execute_result"
    }
   ],
   "source": [
    "( int(points[0][0][0]), int(points[0][0][1]) )"
   ]
  },
  {
   "cell_type": "code",
   "execution_count": 10,
   "id": "dc2709ff-f9c9-4d04-ae0f-ec2168165f07",
   "metadata": {},
   "outputs": [],
   "source": [
    "def make_points(points):\n",
    "    return ( int(points[0]), int(points[1]) )"
   ]
  },
  {
   "cell_type": "code",
   "execution_count": null,
   "id": "1d4b2e68-e83a-4f5a-ab52-10de228c91b3",
   "metadata": {},
   "outputs": [
    {
     "name": "stdout",
     "output_type": "stream",
     "text": [
      "2021-11-4077-01\n"
     ]
    }
   ],
   "source": [
    "if points is not None:\n",
    "    nrOfPoints = len(points)\n",
    "    \n",
    "    for i in range(nrOfPoints):\n",
    "        nextPointIndex = (i+1) % nrOfPoints\n",
    "#         cv2.line(image, tuple(points[i][0]), tuple(points[nextPointIndex][0]), (255,0,0), 5)\n",
    "        cv2.line(image, make_points(points[i][0]), make_points(points[nextPointIndex][0]), (255,0,0), 5)\n",
    "        print(decodedText)\n",
    " \n",
    "    cv2.imshow(\"Image\", image)\n",
    "    cv2.waitKey(0)\n",
    "    cv2.destroyAllWindows() \n",
    "else:\n",
    "    print(\"QR code not detected\")"
   ]
  },
  {
   "cell_type": "code",
   "execution_count": null,
   "id": "3c744e00-23ae-4c8e-86db-ede585e00179",
   "metadata": {},
   "outputs": [],
   "source": []
  }
 ],
 "metadata": {
  "kernelspec": {
   "display_name": "Python 3 (ipykernel)",
   "language": "python",
   "name": "python3"
  },
  "language_info": {
   "codemirror_mode": {
    "name": "ipython",
    "version": 3
   },
   "file_extension": ".py",
   "mimetype": "text/x-python",
   "name": "python",
   "nbconvert_exporter": "python",
   "pygments_lexer": "ipython3",
   "version": "3.8.11"
  }
 },
 "nbformat": 4,
 "nbformat_minor": 5
}
