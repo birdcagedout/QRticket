{
 "cells": [
  {
   "cell_type": "code",
   "execution_count": 17,
   "id": "f41ba671-3605-4730-89c8-df5c53bdc085",
   "metadata": {},
   "outputs": [],
   "source": [
    "import cv2\n",
    "from PIL import Image\n",
    "# from kraken import binarization\n",
    "from pyzbar.pyzbar import ZBarSymbol, decode"
   ]
  },
  {
   "cell_type": "code",
   "execution_count": 139,
   "id": "85875698-233c-405d-bc13-ece2f029fcf2",
   "metadata": {},
   "outputs": [],
   "source": [
    "# image = Image.open(\"QRtest.png\")\n",
    "image = cv2.imread('4.JPG')\n",
    "# image_gray = cv2.imread('QRtest6.jpg', cv2.IMREAD_GRAYSCALE)\n",
    "# image_bw = cv2.threshold(image_gray, thresh=127, maxval=255, type=cv2.THRESH_BINARY)[1]\n",
    "# cv2.imwrite('QRtest6_BW.png', image_bw)\n",
    "# image = Image.open('QRtest6.jpg')\n",
    "# bw_image = binarization.nlbin(image)"
   ]
  },
  {
   "cell_type": "code",
   "execution_count": 128,
   "id": "f9158fdb-7d53-4863-8868-017285089197",
   "metadata": {},
   "outputs": [],
   "source": [
    "# 직원마다 다른 색깔로 네모 표시\n",
    "name_list = [\"전현호\", \"박선녕\", \"정성욱\", \"이재영\", \"김재형\", \"이희영\", \"신상용\", \"최미연\", \"이정선\"]\n",
    "phone_list = [\"4080\", \"4079\", \"4076\", \"4075\", \"4077\", \"4071\", \"4069\", \"4068\", \"4078\"]\n",
    "color_list = [\"#E32636\", \"#6C3483\", \"#FFA500\", \"#FB0E07\", \"#119617\", \"#AAEE00\", \"#0FF1C3\", \"#1155FF\", \"#AB3ED8\"]"
   ]
  },
  {
   "cell_type": "code",
   "execution_count": 129,
   "id": "22a51479-92b1-4236-a73e-116234b5dd37",
   "metadata": {},
   "outputs": [
    {
     "data": {
      "text/plain": [
       "(2268, 4032)"
      ]
     },
     "execution_count": 129,
     "metadata": {},
     "output_type": "execute_result"
    }
   ],
   "source": [
    "image.shape[:2]"
   ]
  },
  {
   "cell_type": "code",
   "execution_count": 60,
   "id": "463d4a1f-ad20-4bc7-9aeb-e650bfa5b3d1",
   "metadata": {},
   "outputs": [],
   "source": [
    "# 그림 파일이 너무 큰 경우 창 크기 조절\n",
    "# (height, width) = image.shape[:2]\n",
    "# if height > 2160:\n",
    "#     ratio = 2160 / height\n",
    "#     width = int(ratio*width)\n",
    "#     height = 2160\n",
    "\n",
    "# if width > 3840:\n",
    "#     ratio = 3840 / width\n",
    "#     width = 3840\n",
    "#     height = int(ratio*height)\n",
    "\n",
    "# dim = (width, height)\n",
    "# image_resized = cv2.resize(image, dim, interpolation=cv2.INTER_AREA)"
   ]
  },
  {
   "cell_type": "code",
   "execution_count": 61,
   "id": "a4730f1c-c3ed-4744-a75a-cb18c4aafd1a",
   "metadata": {},
   "outputs": [],
   "source": [
    "# image_resized.shape[:2]"
   ]
  },
  {
   "cell_type": "code",
   "execution_count": 62,
   "id": "81485343-253d-45ed-a4ee-9e12fb357274",
   "metadata": {},
   "outputs": [],
   "source": [
    "# blurred_image = cv2.GaussianBlur(image, (5, 5), 0)\n",
    "# ret, bw_image = cv2.threshold(blurred_image, 0, 255, cv2.THRESH_BINARY+cv2.THRESH_OTSU)"
   ]
  },
  {
   "cell_type": "code",
   "execution_count": 140,
   "id": "81e142e7-427c-4145-b8e3-860c8bd662c6",
   "metadata": {},
   "outputs": [],
   "source": [
    "cv2.namedWindow(\"auto_window\", cv2.WINDOW_GUI_NORMAL)\n",
    "cv2.imshow(\"auto_window\", image)    # 화면에 창 띄우기\n",
    "cv2.waitKey(0)                # 키보드에 키를 누를 때까지 기다림\n",
    "cv2.destroyAllWindows()       # 창 종료"
   ]
  },
  {
   "cell_type": "code",
   "execution_count": 141,
   "id": "7e3715a2-db4b-4c31-9056-f61c76ff36b8",
   "metadata": {},
   "outputs": [],
   "source": [
    "result = decode(image, symbols=[ZBarSymbol.QRCODE])\t# QR 인식 결과\n",
    "# result_bw = decode(image_bw, symbols=[ZBarSymbol.QRCODE])\t# QR 인식 결과"
   ]
  },
  {
   "cell_type": "code",
   "execution_count": 142,
   "id": "8cc34992-21b9-4bdf-af19-f5cb11da968d",
   "metadata": {},
   "outputs": [
    {
     "data": {
      "text/plain": [
       "[Decoded(data=b'2021-11-4076-15', type='QRCODE', rect=Rect(left=599, top=1010, width=240, height=235), polygon=[Point(x=599, y=1149), Point(x=742, y=1245), Point(x=839, y=1104), Point(x=697, y=1010)]),\n",
       " Decoded(data=b'2021-11-4075-07', type='QRCODE', rect=Rect(left=1098, top=1386, width=223, height=219), polygon=[Point(x=1098, y=1451), Point(x=1165, y=1605), Point(x=1321, y=1539), Point(x=1256, y=1386)]),\n",
       " Decoded(data=b'2021-11-4071-18', type='QRCODE', rect=Rect(left=2928, top=1320, width=206, height=209), polygon=[Point(x=2928, y=1373), Point(x=2981, y=1529), Point(x=3134, y=1473), Point(x=3083, y=1320)]),\n",
       " Decoded(data=b'2021-11-4077-04', type='QRCODE', rect=Rect(left=988, top=104, width=223, height=221), polygon=[Point(x=988, y=166), Point(x=1052, y=325), Point(x=1211, y=265), Point(x=1148, y=104)]),\n",
       " Decoded(data=b'2021-11-4069-15', type='QRCODE', rect=Rect(left=1537, top=102, width=212, height=217), polygon=[Point(x=1537, y=152), Point(x=1588, y=319), Point(x=1749, y=271), Point(x=1699, y=102)]),\n",
       " Decoded(data=b'2021-11-4068-04', type='QRCODE', rect=Rect(left=1827, top=1934, width=202, height=202), polygon=[Point(x=1827, y=2096), Point(x=1987, y=2136), Point(x=2029, y=1975), Point(x=1871, y=1934)]),\n",
       " Decoded(data=b'2021-11-4079-16', type='QRCODE', rect=Rect(left=2913, top=115, width=202, height=204), polygon=[Point(x=2913, y=284), Point(x=3072, y=319), Point(x=3115, y=150), Point(x=2956, y=115)]),\n",
       " Decoded(data=b'2021-11-4078-05', type='QRCODE', rect=Rect(left=2133, top=1655, width=189, height=193), polygon=[Point(x=2133, y=1687), Point(x=2161, y=1848), Point(x=2322, y=1819), Point(x=2294, y=1655)]),\n",
       " Decoded(data=b'2021-11-4080-08', type='QRCODE', rect=Rect(left=2407, top=307, width=197, height=198), polygon=[Point(x=2407, y=474), Point(x=2570, y=505), Point(x=2604, y=341), Point(x=2443, y=307)]),\n",
       " Decoded(data=b'2021-11-4075-20', type='QRCODE', rect=Rect(left=1338, top=1699, width=193, height=187), polygon=[Point(x=1338, y=1864), Point(x=1504, y=1886), Point(x=1531, y=1722), Point(x=1364, y=1699)]),\n",
       " Decoded(data=b'2021-11-4071-15', type='QRCODE', rect=Rect(left=1899, top=1154, width=173, height=170), polygon=[Point(x=1899, y=1316), Point(x=2062, y=1324), Point(x=2072, y=1161), Point(x=1908, y=1154)]),\n",
       " Decoded(data=b'2021-11-4076-07', type='QRCODE', rect=Rect(left=2411, top=1371, width=169, height=169), polygon=[Point(x=2411, y=1535), Point(x=2576, y=1540), Point(x=2580, y=1376), Point(x=2417, y=1371)]),\n",
       " Decoded(data=b'2021-11-4077-12', type='QRCODE', rect=Rect(left=2913, top=869, width=169, height=168), polygon=[Point(x=2913, y=873), Point(x=2915, y=1037), Point(x=3082, y=1033), Point(x=3076, y=869)]),\n",
       " Decoded(data=b'2021-11-4068-12', type='QRCODE', rect=Rect(left=708, top=288, width=196, height=197), polygon=[Point(x=708, y=458), Point(x=878, y=485), Point(x=904, y=315), Point(x=733, y=288)]),\n",
       " Decoded(data=b'2021-11-4079-15', type='QRCODE', rect=Rect(left=2404, top=1683, width=166, height=165), polygon=[Point(x=2404, y=1845), Point(x=2567, y=1848), Point(x=2570, y=1684), Point(x=2408, y=1683)]),\n",
       " Decoded(data=b'2021-11-4068-14', type='QRCODE', rect=Rect(left=2160, top=1367, width=168, height=169), polygon=[Point(x=2160, y=1372), Point(x=2165, y=1536), Point(x=2328, y=1531), Point(x=2323, y=1367)]),\n",
       " Decoded(data=b'2021-11-4071-08', type='QRCODE', rect=Rect(left=2645, top=1402, width=168, height=168), polygon=[Point(x=2645, y=1405), Point(x=2647, y=1570), Point(x=2813, y=1566), Point(x=2808, y=1402)]),\n",
       " Decoded(data=b'2021-11-4075-18', type='QRCODE', rect=Rect(left=1640, top=1379, width=168, height=166), polygon=[Point(x=1640, y=1545), Point(x=1807, y=1544), Point(x=1808, y=1380), Point(x=1643, y=1379)]),\n",
       " Decoded(data=b'2021-11-4077-07', type='QRCODE', rect=Rect(left=1034, top=877, width=193, height=189), polygon=[Point(x=1034, y=1044), Point(x=1206, y=1066), Point(x=1227, y=900), Point(x=1056, y=877)]),\n",
       " Decoded(data=b'2021-11-4077-20', type='QRCODE', rect=Rect(left=2390, top=865, width=167, height=164), polygon=[Point(x=2390, y=1029), Point(x=2555, y=1029), Point(x=2557, y=866), Point(x=2393, y=865)]),\n",
       " Decoded(data=b'2021-11-4076-18', type='QRCODE', rect=Rect(left=2898, top=1856, width=166, height=166), polygon=[Point(x=2898, y=2020), Point(x=3060, y=2022), Point(x=3064, y=1859), Point(x=2904, y=1856)]),\n",
       " Decoded(data=b'2021-11-4080-10', type='QRCODE', rect=Rect(left=3121, top=1648, width=175, height=173), polygon=[Point(x=3121, y=1808), Point(x=3279, y=1821), Point(x=3296, y=1658), Point(x=3139, y=1648)]),\n",
       " Decoded(data=b'2021-11-4078-20', type='QRCODE', rect=Rect(left=1605, top=1704, width=168, height=172), polygon=[Point(x=1605, y=1710), Point(x=1607, y=1876), Point(x=1773, y=1871), Point(x=1773, y=1704)]),\n",
       " Decoded(data=b'2021-11-4076-20', type='QRCODE', rect=Rect(left=2649, top=1685, width=169, height=173), polygon=[Point(x=2649, y=1696), Point(x=2656, y=1858), Point(x=2818, y=1849), Point(x=2813, y=1685)]),\n",
       " Decoded(data=b'2021-11-4071-04', type='QRCODE', rect=Rect(left=743, top=1686, width=186, height=178), polygon=[Point(x=743, y=1854), Point(x=916, y=1864), Point(x=929, y=1697), Point(x=758, y=1686)]),\n",
       " Decoded(data=b'2021-11-4079-07', type='QRCODE', rect=Rect(left=3178, top=853, width=178, height=178), polygon=[Point(x=3178, y=867), Point(x=3194, y=1031), Point(x=3356, y=1015), Point(x=3338, y=853)]),\n",
       " Decoded(data=b'2021-11-4080-18', type='QRCODE', rect=Rect(left=2142, top=841, width=169, height=171), polygon=[Point(x=2142, y=847), Point(x=2148, y=1012), Point(x=2311, y=1004), Point(x=2304, y=841)]),\n",
       " Decoded(data=b'2021-11-4075-05', type='QRCODE', rect=Rect(left=1332, top=631, width=185, height=181), polygon=[Point(x=1332, y=644), Point(x=1349, y=812), Point(x=1517, y=800), Point(x=1502, y=631)]),\n",
       " Decoded(data=b'2021-11-4079-19', type='QRCODE', rect=Rect(left=2647, top=603, width=180, height=178), polygon=[Point(x=2647, y=768), Point(x=2811, y=781), Point(x=2827, y=612), Point(x=2663, y=603)]),\n",
       " Decoded(data=b'2021-11-4068-18', type='QRCODE', rect=Rect(left=1878, top=383, width=173, height=174), polygon=[Point(x=1878, y=387), Point(x=1884, y=557), Point(x=2051, y=551), Point(x=2045, y=383)]),\n",
       " Decoded(data=b'2021-11-4075-11', type='QRCODE', rect=Rect(left=3176, top=373, width=166, height=168), polygon=[Point(x=3176, y=540), Point(x=3336, y=541), Point(x=3342, y=375), Point(x=3181, y=373)]),\n",
       " Decoded(data=b'2021-11-4076-02', type='QRCODE', rect=Rect(left=1336, top=368, width=174, height=176), polygon=[Point(x=1336, y=539), Point(x=1508, y=544), Point(x=1510, y=374), Point(x=1340, y=368)]),\n",
       " Decoded(data=b'2021-11-4069-13', type='QRCODE', rect=Rect(left=2156, top=337, width=166, height=174), polygon=[Point(x=2156, y=337), Point(x=2157, y=511), Point(x=2321, y=506), Point(x=2322, y=337)]),\n",
       " Decoded(data=b'2021-11-4076-05', type='QRCODE', rect=Rect(left=2678, top=326, width=167, height=170), polygon=[Point(x=2678, y=496), Point(x=2844, y=493), Point(x=2845, y=326), Point(x=2680, y=327)]),\n",
       " Decoded(data=b'2021-11-4077-19', type='QRCODE', rect=Rect(left=1061, top=1705, width=175, height=169), polygon=[Point(x=1061, y=1872), Point(x=1230, y=1874), Point(x=1236, y=1705), Point(x=1066, y=1705)]),\n",
       " Decoded(data=b'2021-11-4079-05', type='QRCODE', rect=Rect(left=1361, top=1160, width=174, height=172), polygon=[Point(x=1361, y=1167), Point(x=1368, y=1332), Point(x=1535, y=1326), Point(x=1531, y=1160)])]"
      ]
     },
     "execution_count": 142,
     "metadata": {},
     "output_type": "execute_result"
    }
   ],
   "source": [
    "result"
   ]
  },
  {
   "cell_type": "code",
   "execution_count": 143,
   "id": "8b10ad62-c483-4cc1-88bc-1ab92189d075",
   "metadata": {},
   "outputs": [
    {
     "data": {
      "text/plain": [
       "36"
      ]
     },
     "execution_count": 143,
     "metadata": {},
     "output_type": "execute_result"
    }
   ],
   "source": [
    "len(result)\t\t# 인식된 QR 개수"
   ]
  },
  {
   "cell_type": "code",
   "execution_count": 144,
   "id": "ca14d380-e91a-45b8-a78e-e490598b2077",
   "metadata": {},
   "outputs": [
    {
     "data": {
      "text/plain": [
       "4"
      ]
     },
     "execution_count": 144,
     "metadata": {},
     "output_type": "execute_result"
    }
   ],
   "source": [
    "len(result[0])    # 각 QR의 구조 [data, type, rect, polygon]"
   ]
  },
  {
   "cell_type": "code",
   "execution_count": 37,
   "id": "28fe8d51-76ff-4922-ba33-a91593913194",
   "metadata": {},
   "outputs": [
    {
     "data": {
      "text/plain": [
       "Decoded(data=b'2021-11-4068-06', type='QRCODE', rect=Rect(left=2096, top=424, width=196, height=204), polygon=[Point(x=2096, y=490), Point(x=2157, y=628), Point(x=2292, y=561), Point(x=2229, y=424)])"
      ]
     },
     "execution_count": 37,
     "metadata": {},
     "output_type": "execute_result"
    }
   ],
   "source": [
    "result[0]"
   ]
  },
  {
   "cell_type": "code",
   "execution_count": 28,
   "id": "5efd0701-8682-4123-a349-ca69b9b9a37b",
   "metadata": {},
   "outputs": [
    {
     "data": {
      "text/plain": [
       "15"
      ]
     },
     "execution_count": 28,
     "metadata": {},
     "output_type": "execute_result"
    }
   ],
   "source": [
    "len(result[0][0])"
   ]
  },
  {
   "cell_type": "code",
   "execution_count": 32,
   "id": "98c5fea4-b32f-4ad0-ae71-415efb4772ea",
   "metadata": {},
   "outputs": [
    {
     "data": {
      "text/plain": [
       "True"
      ]
     },
     "execution_count": 32,
     "metadata": {},
     "output_type": "execute_result"
    }
   ],
   "source": [
    "result[0][0][:4].decode('utf-8') == \"2021\""
   ]
  },
  {
   "cell_type": "code",
   "execution_count": 145,
   "id": "ed885663-5980-4fc4-a594-685e253b1491",
   "metadata": {},
   "outputs": [],
   "source": [
    "# 원하는 QR만 전처리\n",
    "QR_YEAR = \"2021\"\n",
    "QR_MONTH = \"11\"\n",
    "QR_SN = [\"0\"+str(i) for i in range(1,10)] + list(map(str, range(10, 21)))\n",
    "\n",
    "name_list = [\"전현호\", \"박선녕\", \"정성욱\", \"이재영\", \"김재형\", \"이희영\", \"신상용\", \"최미연\", \"이정선\"]\n",
    "phone_list = [\"4080\", \"4079\", \"4076\", \"4075\", \"4077\", \"4071\", \"4069\", \"4068\", \"4078\"]\n",
    "color_list = [\"#E32636\", \"#FF5511\", \"#FFA500\", \"#FCE205\", \"#119617\", \"#AAEE00\", \"#0FF1C3\", \"#1155FF\", \"#AB3ED8\"]\n",
    "\n",
    "import re\n",
    "QR_pattern = re.compile(\"[0-9]{4}-[0-9]{2}-[0-9]{4}-[0-9]{2}\")\n",
    "\n",
    "for eachQR in result:\n",
    "\t\n",
    "\t# QR 형식검증1 : data 길이=15\n",
    "\tif len(eachQR[0]) != 15:\n",
    "\t\tresult.remove(eachQR)\n",
    "\t\tcontinue\n",
    "\t\t\n",
    "\t# QR 형식검증2 : 패턴(\"2021-11-4077-01\")\n",
    "\teachQR_str = eachQR[0].decode('utf-8')\n",
    "\tmatch_result = QR_pattern.match(eachQR_str)\n",
    "\tif match_result is None:\n",
    "\t\tresult.remove(eachQR)\n",
    "\t\tcontinue\n",
    "\telse:\n",
    "\t\tQR_content = match_result.group()\n",
    "\t\n",
    "\t# QR 내용검증 : 연/월/name/sn\n",
    "\tyyyy, mm, code, sn  = QR_content.split('-')\n",
    "\tif (yyyy != QR_YEAR) or (mm != QR_MONTH) or (code not in phone_list) or (sn not in QR_SN)  :\n",
    "\t\tresult.remove(eachQR)\n",
    "\t\tcontinue\n"
   ]
  },
  {
   "cell_type": "code",
   "execution_count": 146,
   "id": "23a987c8-87c3-462e-a2f5-f15c31a4dd1d",
   "metadata": {},
   "outputs": [
    {
     "data": {
      "text/plain": [
       "36"
      ]
     },
     "execution_count": 146,
     "metadata": {},
     "output_type": "execute_result"
    }
   ],
   "source": [
    "len(result)"
   ]
  },
  {
   "cell_type": "code",
   "execution_count": 76,
   "id": "1eb3fd52-de6f-4af1-8fa6-8085fe3b68c9",
   "metadata": {},
   "outputs": [
    {
     "data": {
      "text/plain": [
       "b'2021-11-4076-15'"
      ]
     },
     "execution_count": 76,
     "metadata": {},
     "output_type": "execute_result"
    }
   ],
   "source": [
    "result[0][0]"
   ]
  },
  {
   "cell_type": "code",
   "execution_count": 11,
   "id": "9e36564d-0661-4d85-afb6-85441332bafe",
   "metadata": {},
   "outputs": [
    {
     "name": "stdout",
     "output_type": "stream",
     "text": [
      "2021 11 4079 12\n"
     ]
    }
   ],
   "source": [
    "y,m,who,sn = result[0][0].decode('utf-8').split('-')\n",
    "print(y,m,who,sn)"
   ]
  },
  {
   "cell_type": "code",
   "execution_count": 12,
   "id": "3db80c7c-dfec-435a-ba77-1f62dab8c81b",
   "metadata": {},
   "outputs": [
    {
     "data": {
      "text/plain": [
       "'QRCODE'"
      ]
     },
     "execution_count": 12,
     "metadata": {},
     "output_type": "execute_result"
    }
   ],
   "source": [
    "result[0][1]"
   ]
  },
  {
   "cell_type": "code",
   "execution_count": 13,
   "id": "617c205d-f887-47d5-8d09-d20fcd3bf538",
   "metadata": {},
   "outputs": [
    {
     "data": {
      "text/plain": [
       "Rect(left=2006, top=1757, width=143, height=144)"
      ]
     },
     "execution_count": 13,
     "metadata": {},
     "output_type": "execute_result"
    }
   ],
   "source": [
    "result[0][2]"
   ]
  },
  {
   "cell_type": "code",
   "execution_count": 14,
   "id": "db2fcfdb-1b75-4dff-98f6-73a233c7e450",
   "metadata": {},
   "outputs": [
    {
     "data": {
      "text/plain": [
       "[Point(x=2006, y=1757),\n",
       " Point(x=2007, y=1901),\n",
       " Point(x=2149, y=1900),\n",
       " Point(x=2146, y=1757)]"
      ]
     },
     "execution_count": 14,
     "metadata": {},
     "output_type": "execute_result"
    }
   ],
   "source": [
    "result[0][3]    # QR 1개당 점 4개"
   ]
  },
  {
   "cell_type": "code",
   "execution_count": 15,
   "id": "b45bcfc4-4757-415b-9e5e-9f740790fdc2",
   "metadata": {},
   "outputs": [
    {
     "data": {
      "text/plain": [
       "4"
      ]
     },
     "execution_count": 15,
     "metadata": {},
     "output_type": "execute_result"
    }
   ],
   "source": [
    "len(result[0][3])"
   ]
  },
  {
   "cell_type": "code",
   "execution_count": 16,
   "id": "60835260-ed26-4975-8c48-7e0429fd7c5d",
   "metadata": {},
   "outputs": [
    {
     "data": {
      "text/plain": [
       "(2006, 1757)"
      ]
     },
     "execution_count": 16,
     "metadata": {},
     "output_type": "execute_result"
    }
   ],
   "source": [
    "# 첫번째 QR의 폴리곤 points : result[0][3]\n",
    "# 폴리곤의 점의 개수 =len(result[0][3])\n",
    "# 첫번째 QR의 모든 점 : result[0][3][0] -> result[0][3][1] -> result[0][3][2] -> result[0][3][3] -> ...\n",
    "tuple(result[0][3][0])"
   ]
  },
  {
   "cell_type": "code",
   "execution_count": 147,
   "id": "952a07c6-8347-45a2-9a3d-f16363969b64",
   "metadata": {},
   "outputs": [],
   "source": [
    "num_of_QR = len(result)"
   ]
  },
  {
   "cell_type": "code",
   "execution_count": 148,
   "id": "dfe5499e-45f4-4acc-ac24-c52a2cd89f58",
   "metadata": {},
   "outputs": [
    {
     "name": "stdout",
     "output_type": "stream",
     "text": [
      "2021 11 4076 15 \t==> 정성욱\n",
      "2021 11 4075 07 \t==> 이재영\n",
      "2021 11 4071 18 \t==> 이희영\n",
      "2021 11 4077 04 \t==> 김재형\n",
      "2021 11 4069 15 \t==> 신상용\n",
      "2021 11 4068 04 \t==> 최미연\n",
      "2021 11 4079 16 \t==> 박선녕\n",
      "2021 11 4078 05 \t==> 이정선\n",
      "2021 11 4080 08 \t==> 전현호\n",
      "2021 11 4075 20 \t==> 이재영\n",
      "2021 11 4071 15 \t==> 이희영\n",
      "2021 11 4076 07 \t==> 정성욱\n",
      "2021 11 4077 12 \t==> 김재형\n",
      "2021 11 4068 12 \t==> 최미연\n",
      "2021 11 4079 15 \t==> 박선녕\n",
      "2021 11 4068 14 \t==> 최미연\n",
      "2021 11 4071 08 \t==> 이희영\n",
      "2021 11 4075 18 \t==> 이재영\n",
      "2021 11 4077 07 \t==> 김재형\n",
      "2021 11 4077 20 \t==> 김재형\n",
      "2021 11 4076 18 \t==> 정성욱\n",
      "2021 11 4080 10 \t==> 전현호\n",
      "2021 11 4078 20 \t==> 이정선\n",
      "2021 11 4076 20 \t==> 정성욱\n",
      "2021 11 4071 04 \t==> 이희영\n",
      "2021 11 4079 07 \t==> 박선녕\n",
      "2021 11 4080 18 \t==> 전현호\n",
      "2021 11 4075 05 \t==> 이재영\n",
      "2021 11 4079 19 \t==> 박선녕\n",
      "2021 11 4068 18 \t==> 최미연\n",
      "2021 11 4075 11 \t==> 이재영\n",
      "2021 11 4076 02 \t==> 정성욱\n",
      "2021 11 4069 13 \t==> 신상용\n",
      "2021 11 4076 05 \t==> 정성욱\n",
      "2021 11 4077 19 \t==> 김재형\n",
      "2021 11 4079 05 \t==> 박선녕\n"
     ]
    }
   ],
   "source": [
    "if num_of_QR != 0:\n",
    "    \n",
    "\t# QR 1개당 루프(5개: 0~4)\n",
    "\tfor eachQR in range(num_of_QR):\n",
    "\n",
    "\t\tpoints = len(result[eachQR][3])     # QR 1개당 인식된 폴리곤 테두리 점의 개수(보통 4각형=4개)\n",
    "\n",
    "\t\t# 경계선 컬러 설정\n",
    "\t\tyyyy, mm, code, sn = result[eachQR][0].decode('utf-8').split('-')\n",
    "\t\tcolor_hex_selected = color_list[phone_list.index(code)]\n",
    "\t\tcolor_selected = tuple(int(color_hex_selected[i:i+2], 16) for i in (5, 3, 1))\n",
    "\t\t\n",
    "\t\t# QR 1개당 경계선 그리기\n",
    "\t\tfor point in range(points):\n",
    "\t\t\tnext_point = (point+1) % points\n",
    "\t\t\tcv2.line(image, tuple(result[eachQR][3][point]), tuple(result[eachQR][3][next_point]), color_selected, 5)    # (B,G,R), 굵기\n",
    "\t\t\t\n",
    "\t\t\n",
    "\t\tprint(yyyy, mm, code, sn, \"\\t==>\", name_list[phone_list.index(code)])\n",
    "\n",
    "\tcv2.namedWindow(\"auto_window\", cv2.WINDOW_GUI_NORMAL)\n",
    "\tcv2.imshow(\"auto_window\", image)    # 화면에 창 띄우기\n",
    "\tcv2.waitKey(0)                # 키보드에 키를 누를 때까지 기다림\n",
    "\tcv2.destroyAllWindows()       # 창 종료\n",
    "# \tcv2.imwrite(\"QR_detected.png\", image)\n",
    "else:\n",
    "\tprint(\"QR code not detected\")"
   ]
  },
  {
   "cell_type": "code",
   "execution_count": 149,
   "id": "0bb01207-4eb6-4b4e-856e-03c1354515eb",
   "metadata": {},
   "outputs": [
    {
     "data": {
      "text/plain": [
       "True"
      ]
     },
     "execution_count": 149,
     "metadata": {},
     "output_type": "execute_result"
    }
   ],
   "source": [
    "# 1.JPG ==> 36/39 (92%)\n",
    "# 2.JPG(어두울때) ==> 35/39 (90%)\n",
    "# 3.JPG(어둠+플래시) ==> 35/39 (90%)\n",
    "# 4.JPG(어둠+플래시) ==> 36/39 (92%)\n",
    "cv2.imwrite(\"QR_detected4.png\", image)"
   ]
  },
  {
   "cell_type": "code",
   "execution_count": null,
   "id": "30a5a2da-0c04-46d6-b9d0-29013411e2ad",
   "metadata": {},
   "outputs": [],
   "source": []
  }
 ],
 "metadata": {
  "interpreter": {
   "hash": "f9c50f004ee415adbafe09aea614218b079f1eb011d4673c4c2142d7f8fe9c86"
  },
  "kernelspec": {
   "display_name": "Python 3 (ipykernel)",
   "language": "python",
   "name": "python3"
  },
  "language_info": {
   "codemirror_mode": {
    "name": "ipython",
    "version": 3
   },
   "file_extension": ".py",
   "mimetype": "text/x-python",
   "name": "python",
   "nbconvert_exporter": "python",
   "pygments_lexer": "ipython3",
   "version": "3.8.11"
  }
 },
 "nbformat": 4,
 "nbformat_minor": 5
}
