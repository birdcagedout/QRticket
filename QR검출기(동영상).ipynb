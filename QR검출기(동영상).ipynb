{
 "cells": [
  {
   "cell_type": "code",
   "execution_count": 1,
   "id": "4aed80ee-d094-4b9f-84be-2fbf8d0a1c8a",
   "metadata": {},
   "outputs": [],
   "source": [
    "import re\n",
    "import cv2\n",
    "from pyzbar.pyzbar import *"
   ]
  },
  {
   "cell_type": "code",
   "execution_count": 2,
   "id": "614830ef-57ee-46da-a1a8-7a0e67874415",
   "metadata": {},
   "outputs": [],
   "source": [
    "# 입력소스 선택\n",
    "\n",
    "# cap = cv2.VideoCapture(0)                            # 첫번째 카메라\n",
    "cap = cv2.VideoCapture(\"QRvideo1.MOV\")                 # 동영상 파일\n",
    "# cap = cv2.VideoCapture(\"rtsp://ID:PW@ip-address\")    # IP카메라"
   ]
  },
  {
   "cell_type": "code",
   "execution_count": 3,
   "id": "28d4771e-c3d5-4d86-8103-d146cdc7be9e",
   "metadata": {},
   "outputs": [
    {
     "data": {
      "text/plain": [
       "True"
      ]
     },
     "execution_count": 3,
     "metadata": {},
     "output_type": "execute_result"
    }
   ],
   "source": [
    "cap.isOpened()    # 카메라가 없어도 True일 수 있음 ==> read()에서 False"
   ]
  },
  {
   "cell_type": "code",
   "execution_count": 4,
   "id": "23fd7394-1194-4af5-b100-d981f61fcd1a",
   "metadata": {},
   "outputs": [
    {
     "name": "stdout",
     "output_type": "stream",
     "text": [
      "Frame width: 3840\n",
      "Frame height: 2160\n",
      "Frame count: 343\n",
      "FPS: 59.96503496503497\n"
     ]
    }
   ],
   "source": [
    "# 입력소스의 속성\n",
    "# cap.get(cv2.CAP_PROP_FRAME_WIDTH) = 가로 해상도(3)\n",
    "# cap.get(cv2.CAP_PROP_FRAME_HEIGHT) = 세로 해상도(4)\n",
    "# cap.get(cv2.CAP_PROP_FRAME_COUNT) = 총 프레임 수\n",
    "# cap.get(cv2.CAP_PROP_FPS) = 프레임율(5)\n",
    "\n",
    "print('Frame width:', int(cap.get(cv2.CAP_PROP_FRAME_WIDTH)))\n",
    "print('Frame height:', int(cap.get(cv2.CAP_PROP_FRAME_HEIGHT)))\n",
    "print('Frame count:', int(cap.get(cv2.CAP_PROP_FRAME_COUNT)))\n",
    "print('FPS:', cap.get(cv2.CAP_PROP_FPS))"
   ]
  },
  {
   "cell_type": "code",
   "execution_count": 5,
   "id": "3252a9c4-8617-410c-8cb7-776b1440810f",
   "metadata": {},
   "outputs": [],
   "source": [
    "# 입력소스 = 카메라인 경우: 해상도, 프레임률 변경\n",
    "\n",
    "# cap.set(cv2.CAP_PROP_FRAME_WIDTH, 1280)\n",
    "# cap.set(cv2.CAP_PROP_FRAME_HEIGHT, 720)\n",
    "# cap.set(cv2.CAP_PROP_FPS, 30)"
   ]
  },
  {
   "cell_type": "code",
   "execution_count": 31,
   "id": "ba2beaea-951f-4aec-b608-e4dc9caf766e",
   "metadata": {},
   "outputs": [],
   "source": [
    "# <QR Format>\n",
    "# 식당: NWTAVR-MA-202111-식당이름\n",
    "# 직원: 2021-11-4077-01 ==> 다음달부터 NWTAVR-MS-202112-4077-01\n",
    "\n",
    "# HEADER = 노원구청 교통행정과 등록팀 (내 QR인지 식별자 역할)\n",
    "# CLASS : 가맹점 = Member of Affiliation / 직원 = Member of Staff\n",
    "QR_HEADER = \"NWTAVR\"        # 6\n",
    "QR_CLASS_MA = \"MA\"          # 2\n",
    "QR_CLASS_MS = \"MS\"          # 2\n",
    "QR_YEAR = \"2021\"                      # 4\n",
    "QR_MONTH = \"11\"                       # 2\n",
    "QR_YEAR_MONTH = QR_YEAR + QR_MONTH    # 6\n",
    "QR_SN = [\"0\"+str(i) for i in range(1,10)] + list(map(str, range(10, 21)))    # [\"01\", \"02\", ... \"19\", \"20\"]\n",
    "\n",
    "affil_list = [\"노란코끼리\", \"어장촌생선구이\", \"횡성목장\", \"항도(港都)\", \"전주콩나루\", \"옛날칼국수\", \"칠리사이공\", \"도나한우\", \"북경(北京)\", \"명문식당\", \"일성스시\", \"새싹비빔밥\", \"구내매점\"]\n",
    "\n",
    "staff_list = [\"전현호\", \"박선녕\", \"정성욱\", \"이재영\", \"김재형\", \"이희영\", \"신상용\", \"최미연\", \"이정선\"]\n",
    "phone_list = [\"4080\",   \"4079\",   \"4076\",   \"4075\",   \"4077\",   \"4071\",   \"4069\",   \"4068\",   \"4078\"]\n",
    "color_list = [\"#E32636\", \"#FF5511\", \"#FFA500\", \"#FCE205\", \"#119617\", \"#AAEE00\", \"#0FF1C3\", \"#1155FF\", \"#AB3ED8\"]\n",
    "\n",
    "\n",
    "MA_pattern = re.compile(QR_HEADER + \"-\" + QR_CLASS_MA + \"-\" + QR_YEAR_MONTH + \"-\" + \".+\")\n",
    "MS_pattern = re.compile(QR_YEAR_MONTH[:4] + \"-\" + QR_YEAR_MONTH[4:] + \"-\" + \"[0-9]{4}-[0-9]{2}\")"
   ]
  },
  {
   "cell_type": "code",
   "execution_count": 31,
   "id": "32f06793-366e-417d-9c67-6fa203cf331d",
   "metadata": {},
   "outputs": [],
   "source": [
    "# 필요한 QR만 선택\n",
    "# 직원 QR만 전처리 ==> 가맹점QR은 1개뿐이므로 전처리 불필요\n",
    "\n",
    "\n",
    "preprocessed_QR_list = []\n",
    "\n",
    "def PreprocessFrame(frame):\n",
    "\t\n",
    "\t# 프레임에서 모든 QR code 찾기\n",
    "\tQR_list = decode(frame, symbols=[ZBarSymbol.QRCODE])\n",
    "\tnum_of_QR = len(QR_list)\n",
    "\tprint(f\"[전처리 전] QR개수 : {num_of_QR}\")\n",
    "\t\n",
    "\t# 필요한 QR만 골라서 decoded_list에 넣음\n",
    "\tfor each_QR in QR_list:\n",
    "\t\t# QR 형식검증1 : data 길이=15\n",
    "\t\tif len(each_QR.data) != 15:\n",
    "\t\t\tresult.remove(each_QR)\n",
    "\t\t\tcontinue\n",
    "\n",
    "\t\t# QR 형식검증2 : 패턴(\"2021-11-4077-01\")\n",
    "\t\tQRdata_str = each_QR.data.decode('utf-8')\n",
    "\t\tmatch_result = MS_pattern.match(QRdata_str)\n",
    "\t\tif match_result is None:\n",
    "\t\t\tresult.remove(each_QR)\n",
    "\t\t\tcontinue\n",
    "\t\telse:\n",
    "\t\t\tQR_contents = match_result.group()\n",
    "\n",
    "\t\t# QR 내용검증 : 연/월/전화번호/일련번호\n",
    "\t\tyyyy, mm, staff, sn = QR_content.split('-')\n",
    "\t\tif (yyyy != QR_YEAR) or (mm != QR_MONTH) or (staff not in phone_list) or (sn not in QR_SN):\n",
    "\t\t\tresult.remove(each_QR)\n",
    "\t\t\tcontinue\n",
    "\n",
    "\t\t# 모두 통과했다면 필요한 QR\n",
    "\t\tpreprocessed_QR_list.append(each_QR)\n",
    "\t\n",
    "\tQR_count = len(preprocessed_QR_list)\n",
    "\tprint(f\"[전처리 후] QR개수 : {QR_count}\")\n",
    "\treturn QR_count"
   ]
  },
  {
   "cell_type": "code",
   "execution_count": 31,
   "id": "8f46abe9-a857-41ea-8523-d906ab1acedc",
   "metadata": {},
   "outputs": [
    {
     "data": {
      "text/plain": [
       "True"
      ]
     },
     "execution_count": 31,
     "metadata": {},
     "output_type": "execute_result"
    }
   ],
   "source": []
  },
  {
   "cell_type": "code",
   "execution_count": null,
   "id": "5b37497c-84e4-4e89-a24f-0a7e47284d5f",
   "metadata": {},
   "outputs": [],
   "source": [
    "detected_QR_list = []\n",
    "frame_id = 0\n",
    "\n",
    "while True:\n",
    "\t# 열려있는 카메라가 없으면 이 시점에서 ret = False\n",
    "\tread_success, frame = cap.read()\n",
    "\tif read_success == False:\n",
    "\t\tbreak\n",
    "\t\n",
    "\t# 카메라 창 띄움\n",
    "\t# frame_RGB = cv2.cvtColor(frame, cv2.COLOR_BGR2RGB)\n",
    "\t# cv2.imshow(\"Frame\", frame_RGB)\n",
    "\tcv2.imshow(\"Frame\", frame)\n",
    "\t\n",
    "\t# ESC 키가 눌려지면 루프 탈출\n",
    "\tkey = cv2.waitKey(100) & 0xFF\n",
    "\tif key == 27:\n",
    "\t\tcap.release()\n",
    "\t\tcv2.destroyAllWindows()\n",
    "\t\tbreak\n",
    "\t\t\n",
    "\t# 프레임에서 모든 QR code 찾기\n",
    "\tresult = decode(frame, symbols=[ZBarSymbol.QRCODE])\n",
    "\tnum_of_QR = len(result)\n",
    "\tprint(f\"[전처리 전] QR개수 : {num_of_QR}\")\n",
    "\t\n",
    "\n",
    "\t\n",
    "\t\n",
    "\t"
   ]
  },
  {
   "cell_type": "code",
   "execution_count": null,
   "id": "f67b763f-d404-4848-a589-a2470ec8439a",
   "metadata": {},
   "outputs": [],
   "source": []
  }
 ],
 "metadata": {
  "kernelspec": {
   "display_name": "Python 3 (ipykernel)",
   "language": "python",
   "name": "python3"
  },
  "language_info": {
   "codemirror_mode": {
    "name": "ipython",
    "version": 3
   },
   "file_extension": ".py",
   "mimetype": "text/x-python",
   "name": "python",
   "nbconvert_exporter": "python",
   "pygments_lexer": "ipython3",
   "version": "3.8.11"
  }
 },
 "nbformat": 4,
 "nbformat_minor": 5
}
